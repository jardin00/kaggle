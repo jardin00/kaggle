{
 "cells": [
  {
   "attachments": {},
   "cell_type": "markdown",
   "metadata": {},
   "source": [
    "# Data load"
   ]
  },
  {
   "cell_type": "code",
   "execution_count": 1,
   "metadata": {},
   "outputs": [],
   "source": [
    "import numpy as np \n",
    "import pandas as pd\n",
    "import matplotlib.pyplot as plt\n",
    "import seaborn as sns\n",
    "from sklearn.impute import SimpleImputer"
   ]
  },
  {
   "cell_type": "code",
   "execution_count": 2,
   "metadata": {},
   "outputs": [],
   "source": [
    "import warnings\n",
    "warnings.filterwarnings('ignore')"
   ]
  },
  {
   "cell_type": "code",
   "execution_count": 3,
   "metadata": {},
   "outputs": [],
   "source": [
    "train = pd.read_csv('train.csv')\n",
    "test = pd.read_csv('test.csv')\n",
    "submission = pd.read_csv('sample_submission.csv')"
   ]
  },
  {
   "cell_type": "code",
   "execution_count": 4,
   "metadata": {},
   "outputs": [
    {
     "name": "stdout",
     "output_type": "stream",
     "text": [
      "CryoSleep       217\n",
      "ShoppingMall    208\n",
      "VIP             203\n",
      "HomePlanet      201\n",
      "Name            200\n",
      "Cabin           199\n",
      "VRDeck          188\n",
      "FoodCourt       183\n",
      "Spa             183\n",
      "Destination     182\n",
      "RoomService     181\n",
      "Age             179\n",
      "PassengerId       0\n",
      "Transported       0\n",
      "dtype: int64\n"
     ]
    }
   ],
   "source": [
    "print(train.isnull().sum().sort_values(ascending=False))"
   ]
  },
  {
   "cell_type": "code",
   "execution_count": 5,
   "metadata": {},
   "outputs": [
    {
     "name": "stdout",
     "output_type": "stream",
     "text": [
      "FoodCourt       106\n",
      "Spa             101\n",
      "Cabin           100\n",
      "ShoppingMall     98\n",
      "Name             94\n",
      "CryoSleep        93\n",
      "VIP              93\n",
      "Destination      92\n",
      "Age              91\n",
      "HomePlanet       87\n",
      "RoomService      82\n",
      "VRDeck           80\n",
      "PassengerId       0\n",
      "dtype: int64\n"
     ]
    }
   ],
   "source": [
    "print(test.isnull().sum().sort_values(ascending=False))"
   ]
  },
  {
   "attachments": {},
   "cell_type": "markdown",
   "metadata": {},
   "source": [
    "# EDA"
   ]
  },
  {
   "attachments": {},
   "cell_type": "markdown",
   "metadata": {},
   "source": [
    "상관관계 분석"
   ]
  },
  {
   "cell_type": "code",
   "execution_count": 6,
   "metadata": {},
   "outputs": [
    {
     "data": {
      "text/html": [
       "<div>\n",
       "<style scoped>\n",
       "    .dataframe tbody tr th:only-of-type {\n",
       "        vertical-align: middle;\n",
       "    }\n",
       "\n",
       "    .dataframe tbody tr th {\n",
       "        vertical-align: top;\n",
       "    }\n",
       "\n",
       "    .dataframe thead th {\n",
       "        text-align: right;\n",
       "    }\n",
       "</style>\n",
       "<table border=\"1\" class=\"dataframe\">\n",
       "  <thead>\n",
       "    <tr style=\"text-align: right;\">\n",
       "      <th></th>\n",
       "      <th>Age</th>\n",
       "      <th>RoomService</th>\n",
       "      <th>FoodCourt</th>\n",
       "      <th>ShoppingMall</th>\n",
       "      <th>Spa</th>\n",
       "      <th>VRDeck</th>\n",
       "      <th>Transported</th>\n",
       "    </tr>\n",
       "  </thead>\n",
       "  <tbody>\n",
       "    <tr>\n",
       "      <th>Age</th>\n",
       "      <td>1.000000</td>\n",
       "      <td>0.068723</td>\n",
       "      <td>0.130421</td>\n",
       "      <td>0.033133</td>\n",
       "      <td>0.123970</td>\n",
       "      <td>0.101007</td>\n",
       "      <td>-0.075026</td>\n",
       "    </tr>\n",
       "    <tr>\n",
       "      <th>RoomService</th>\n",
       "      <td>0.068723</td>\n",
       "      <td>1.000000</td>\n",
       "      <td>-0.015889</td>\n",
       "      <td>0.054480</td>\n",
       "      <td>0.010080</td>\n",
       "      <td>-0.019581</td>\n",
       "      <td>-0.244611</td>\n",
       "    </tr>\n",
       "    <tr>\n",
       "      <th>FoodCourt</th>\n",
       "      <td>0.130421</td>\n",
       "      <td>-0.015889</td>\n",
       "      <td>1.000000</td>\n",
       "      <td>-0.014228</td>\n",
       "      <td>0.221891</td>\n",
       "      <td>0.227995</td>\n",
       "      <td>0.046566</td>\n",
       "    </tr>\n",
       "    <tr>\n",
       "      <th>ShoppingMall</th>\n",
       "      <td>0.033133</td>\n",
       "      <td>0.054480</td>\n",
       "      <td>-0.014228</td>\n",
       "      <td>1.000000</td>\n",
       "      <td>0.013879</td>\n",
       "      <td>-0.007322</td>\n",
       "      <td>0.010141</td>\n",
       "    </tr>\n",
       "    <tr>\n",
       "      <th>Spa</th>\n",
       "      <td>0.123970</td>\n",
       "      <td>0.010080</td>\n",
       "      <td>0.221891</td>\n",
       "      <td>0.013879</td>\n",
       "      <td>1.000000</td>\n",
       "      <td>0.153821</td>\n",
       "      <td>-0.221131</td>\n",
       "    </tr>\n",
       "    <tr>\n",
       "      <th>VRDeck</th>\n",
       "      <td>0.101007</td>\n",
       "      <td>-0.019581</td>\n",
       "      <td>0.227995</td>\n",
       "      <td>-0.007322</td>\n",
       "      <td>0.153821</td>\n",
       "      <td>1.000000</td>\n",
       "      <td>-0.207075</td>\n",
       "    </tr>\n",
       "    <tr>\n",
       "      <th>Transported</th>\n",
       "      <td>-0.075026</td>\n",
       "      <td>-0.244611</td>\n",
       "      <td>0.046566</td>\n",
       "      <td>0.010141</td>\n",
       "      <td>-0.221131</td>\n",
       "      <td>-0.207075</td>\n",
       "      <td>1.000000</td>\n",
       "    </tr>\n",
       "  </tbody>\n",
       "</table>\n",
       "</div>"
      ],
      "text/plain": [
       "                   Age  RoomService  FoodCourt  ShoppingMall       Spa  \\\n",
       "Age           1.000000     0.068723   0.130421      0.033133  0.123970   \n",
       "RoomService   0.068723     1.000000  -0.015889      0.054480  0.010080   \n",
       "FoodCourt     0.130421    -0.015889   1.000000     -0.014228  0.221891   \n",
       "ShoppingMall  0.033133     0.054480  -0.014228      1.000000  0.013879   \n",
       "Spa           0.123970     0.010080   0.221891      0.013879  1.000000   \n",
       "VRDeck        0.101007    -0.019581   0.227995     -0.007322  0.153821   \n",
       "Transported  -0.075026    -0.244611   0.046566      0.010141 -0.221131   \n",
       "\n",
       "                VRDeck  Transported  \n",
       "Age           0.101007    -0.075026  \n",
       "RoomService  -0.019581    -0.244611  \n",
       "FoodCourt     0.227995     0.046566  \n",
       "ShoppingMall -0.007322     0.010141  \n",
       "Spa           0.153821    -0.221131  \n",
       "VRDeck        1.000000    -0.207075  \n",
       "Transported  -0.207075     1.000000  "
      ]
     },
     "execution_count": 6,
     "metadata": {},
     "output_type": "execute_result"
    }
   ],
   "source": [
    "corr_matrix = train.corr()\n",
    "corr_matrix"
   ]
  },
  {
   "cell_type": "code",
   "execution_count": 7,
   "metadata": {},
   "outputs": [
    {
     "data": {
      "text/plain": [
       "<Axes: >"
      ]
     },
     "execution_count": 7,
     "metadata": {},
     "output_type": "execute_result"
    },
    {
     "data": {
      "image/png": "[encoded data removed]",
      "text/plain": [
       "<Figure size 1500x1500 with 2 Axes>"
      ]
     },
     "metadata": {},
     "output_type": "display_data"
    }
   ],
   "source": [
    "plt.figure(figsize=(15,15))\n",
    "sns.heatmap(data = corr_matrix, annot=True,cmap='Blues')"
   ]
  },
  {
   "attachments": {},
   "cell_type": "markdown",
   "metadata": {},
   "source": [
    "# Data Preprocessing"
   ]
  },
  {
   "cell_type": "code",
   "execution_count": 8,
   "metadata": {},
   "outputs": [],
   "source": [
    "# 중요하지 않은 변수 삭제\n",
    "train.drop(['PassengerId','Name'],axis =1 ,inplace=True)\n",
    "test.drop(['PassengerId','Name'],axis =1 ,inplace=True)"
   ]
  },
  {
   "cell_type": "code",
   "execution_count": 9,
   "metadata": {},
   "outputs": [],
   "source": [
    "# Cabin 변수로 다른 변수 생성\n",
    "train[['deck','num','side']] = train['Cabin'].str.split('/', expand= True)\n",
    "test[['deck','num','side']] = test['Cabin'].str.split('/', expand= True)\n",
    "\n",
    "train.drop(['Cabin','num'],axis =1 ,inplace=True)\n",
    "test.drop(['Cabin','num'],axis =1 ,inplace=True)"
   ]
  },
  {
   "cell_type": "code",
   "execution_count": 10,
   "metadata": {},
   "outputs": [],
   "source": [
    "imputer = SimpleImputer(strategy='most_frequent')\n",
    "\n",
    "imputer.fit_transform(train[['Destination','VIP','CryoSleep','deck','side']])\n",
    "train[['Destination','VIP','CryoSleep','deck','side']] = imputer.transform(train[['Destination','VIP','CryoSleep','deck','side']])\n",
    "\n",
    "imputer.fit_transform(test[['Destination','VIP','CryoSleep','deck','side']])\n",
    "test[['Destination','VIP','CryoSleep','deck','side']] = imputer.transform(test[['Destination','VIP','CryoSleep','deck','side']])"
   ]
  },
  {
   "cell_type": "code",
   "execution_count": 11,
   "metadata": {},
   "outputs": [],
   "source": [
    "imputer2 = SimpleImputer(strategy='constant',fill_value=0)\n",
    "imputer2.fit_transform(train[['RoomService','FoodCourt','ShoppingMall','Spa','VRDeck']])\n",
    "train[['RoomService','FoodCourt','ShoppingMall','Spa','VRDeck']] = imputer2.transform(train[['RoomService','FoodCourt','ShoppingMall','Spa','VRDeck']])\n",
    "\n",
    "imputer2.fit_transform(test[['RoomService','FoodCourt','ShoppingMall','Spa','VRDeck']])\n",
    "test[['RoomService','FoodCourt','ShoppingMall','Spa','VRDeck']] = imputer2.transform(test[['RoomService','FoodCourt','ShoppingMall','Spa','VRDeck']])"
   ]
  },
  {
   "cell_type": "code",
   "execution_count": 12,
   "metadata": {},
   "outputs": [],
   "source": [
    "#새로운 consume 변수 생성\n",
    "train['consume'] = train[['RoomService','FoodCourt','ShoppingMall','Spa','VRDeck']].sum(axis=1)\n",
    "test['consume'] = test[['RoomService','FoodCourt','ShoppingMall','Spa','VRDeck']].sum(axis=1)"
   ]
  },
  {
   "cell_type": "code",
   "execution_count": 13,
   "metadata": {},
   "outputs": [],
   "source": [
    "#homeplanet에 따라 age 채우기 \n",
    "train['Age'] = train.groupby('HomePlanet')['Age'].transform(lambda x: x.fillna(x.median()))\n",
    "test['Age'] = test.groupby('HomePlanet')['Age'].transform(lambda x: x.fillna(x.median()))"
   ]
  },
  {
   "cell_type": "code",
   "execution_count": 14,
   "metadata": {},
   "outputs": [],
   "source": [
    "#missing data 0으로 채우기\n",
    "train.fillna(0, inplace=True)\n",
    "test.fillna(0, inplace=True)"
   ]
  },
  {
   "cell_type": "code",
   "execution_count": 15,
   "metadata": {},
   "outputs": [],
   "source": [
    "#one-hot encoding\n",
    "train_one = pd.get_dummies(train, columns=['HomePlanet','CryoSleep','Destination','VIP','deck','side'], drop_first=True)\n",
    "test_one = pd.get_dummies(test, columns=['HomePlanet','CryoSleep','Destination','VIP','deck','side'], drop_first=True)\n",
    "\n",
    "train_one['Transported'].replace({True:1,False:0},inplace=True)"
   ]
  },
  {
   "cell_type": "code",
   "execution_count": 16,
   "metadata": {},
   "outputs": [
    {
     "name": "stdout",
     "output_type": "stream",
     "text": [
      "<class 'pandas.core.frame.DataFrame'>\n",
      "RangeIndex: 8693 entries, 0 to 8692\n",
      "Data columns (total 23 columns):\n",
      " #   Column                     Non-Null Count  Dtype  \n",
      "---  ------                     --------------  -----  \n",
      " 0   Age                        8693 non-null   float64\n",
      " 1   RoomService                8693 non-null   float64\n",
      " 2   FoodCourt                  8693 non-null   float64\n",
      " 3   ShoppingMall               8693 non-null   float64\n",
      " 4   Spa                        8693 non-null   float64\n",
      " 5   VRDeck                     8693 non-null   float64\n",
      " 6   Transported                8693 non-null   int64  \n",
      " 7   consume                    8693 non-null   float64\n",
      " 8   HomePlanet_Earth           8693 non-null   uint8  \n",
      " 9   HomePlanet_Europa          8693 non-null   uint8  \n",
      " 10  HomePlanet_Mars            8693 non-null   uint8  \n",
      " 11  CryoSleep_True             8693 non-null   uint8  \n",
      " 12  Destination_PSO J318.5-22  8693 non-null   uint8  \n",
      " 13  Destination_TRAPPIST-1e    8693 non-null   uint8  \n",
      " 14  VIP_True                   8693 non-null   uint8  \n",
      " 15  deck_B                     8693 non-null   uint8  \n",
      " 16  deck_C                     8693 non-null   uint8  \n",
      " 17  deck_D                     8693 non-null   uint8  \n",
      " 18  deck_E                     8693 non-null   uint8  \n",
      " 19  deck_F                     8693 non-null   uint8  \n",
      " 20  deck_G                     8693 non-null   uint8  \n",
      " 21  deck_T                     8693 non-null   uint8  \n",
      " 22  side_S                     8693 non-null   uint8  \n",
      "dtypes: float64(7), int64(1), uint8(15)\n",
      "memory usage: 670.8 KB\n"
     ]
    }
   ],
   "source": [
    "train_one.info()"
   ]
  },
  {
   "attachments": {},
   "cell_type": "markdown",
   "metadata": {},
   "source": [
    "# Predict"
   ]
  },
  {
   "cell_type": "code",
   "execution_count": 17,
   "metadata": {},
   "outputs": [],
   "source": [
    "from xgboost import XGBClassifier\n",
    "from lightgbm import LGBMClassifier\n",
    "from sklearn.ensemble import RandomForestClassifier, VotingClassifier\n",
    "from catboost import CatBoostClassifier\n",
    "from sklearn.model_selection import train_test_split\n",
    "from sklearn.metrics import accuracy_score,classification_report"
   ]
  },
  {
   "cell_type": "code",
   "execution_count": 18,
   "metadata": {},
   "outputs": [],
   "source": [
    "X_train, X_val, y_train, y_val = train_test_split(train_one.drop(['Transported'],axis=1),train_one['Transported'],test_size=0.2, random_state=42)"
   ]
  },
  {
   "cell_type": "code",
   "execution_count": 19,
   "metadata": {},
   "outputs": [
    {
     "data": {
      "text/html": [
       "<div>\n",
       "<style scoped>\n",
       "    .dataframe tbody tr th:only-of-type {\n",
       "        vertical-align: middle;\n",
       "    }\n",
       "\n",
       "    .dataframe tbody tr th {\n",
       "        vertical-align: top;\n",
       "    }\n",
       "\n",
       "    .dataframe thead th {\n",
       "        text-align: right;\n",
       "    }\n",
       "</style>\n",
       "<table border=\"1\" class=\"dataframe\">\n",
       "  <thead>\n",
       "    <tr style=\"text-align: right;\">\n",
       "      <th></th>\n",
       "      <th>Age</th>\n",
       "      <th>RoomService</th>\n",
       "      <th>FoodCourt</th>\n",
       "      <th>ShoppingMall</th>\n",
       "      <th>Spa</th>\n",
       "      <th>VRDeck</th>\n",
       "      <th>consume</th>\n",
       "      <th>HomePlanet_Earth</th>\n",
       "      <th>HomePlanet_Europa</th>\n",
       "      <th>HomePlanet_Mars</th>\n",
       "      <th>...</th>\n",
       "      <th>Destination_TRAPPIST-1e</th>\n",
       "      <th>VIP_True</th>\n",
       "      <th>deck_B</th>\n",
       "      <th>deck_C</th>\n",
       "      <th>deck_D</th>\n",
       "      <th>deck_E</th>\n",
       "      <th>deck_F</th>\n",
       "      <th>deck_G</th>\n",
       "      <th>deck_T</th>\n",
       "      <th>side_S</th>\n",
       "    </tr>\n",
       "  </thead>\n",
       "  <tbody>\n",
       "    <tr>\n",
       "      <th>2333</th>\n",
       "      <td>28.0</td>\n",
       "      <td>0.0</td>\n",
       "      <td>55.0</td>\n",
       "      <td>0.0</td>\n",
       "      <td>656.0</td>\n",
       "      <td>0.0</td>\n",
       "      <td>711.0</td>\n",
       "      <td>1</td>\n",
       "      <td>0</td>\n",
       "      <td>0</td>\n",
       "      <td>...</td>\n",
       "      <td>1</td>\n",
       "      <td>0</td>\n",
       "      <td>0</td>\n",
       "      <td>0</td>\n",
       "      <td>0</td>\n",
       "      <td>0</td>\n",
       "      <td>1</td>\n",
       "      <td>0</td>\n",
       "      <td>0</td>\n",
       "      <td>1</td>\n",
       "    </tr>\n",
       "    <tr>\n",
       "      <th>2589</th>\n",
       "      <td>17.0</td>\n",
       "      <td>0.0</td>\n",
       "      <td>1195.0</td>\n",
       "      <td>31.0</td>\n",
       "      <td>0.0</td>\n",
       "      <td>0.0</td>\n",
       "      <td>1226.0</td>\n",
       "      <td>1</td>\n",
       "      <td>0</td>\n",
       "      <td>0</td>\n",
       "      <td>...</td>\n",
       "      <td>1</td>\n",
       "      <td>0</td>\n",
       "      <td>0</td>\n",
       "      <td>0</td>\n",
       "      <td>0</td>\n",
       "      <td>0</td>\n",
       "      <td>1</td>\n",
       "      <td>0</td>\n",
       "      <td>0</td>\n",
       "      <td>0</td>\n",
       "    </tr>\n",
       "    <tr>\n",
       "      <th>8302</th>\n",
       "      <td>28.0</td>\n",
       "      <td>0.0</td>\n",
       "      <td>0.0</td>\n",
       "      <td>0.0</td>\n",
       "      <td>0.0</td>\n",
       "      <td>0.0</td>\n",
       "      <td>0.0</td>\n",
       "      <td>0</td>\n",
       "      <td>1</td>\n",
       "      <td>0</td>\n",
       "      <td>...</td>\n",
       "      <td>0</td>\n",
       "      <td>0</td>\n",
       "      <td>0</td>\n",
       "      <td>1</td>\n",
       "      <td>0</td>\n",
       "      <td>0</td>\n",
       "      <td>0</td>\n",
       "      <td>0</td>\n",
       "      <td>0</td>\n",
       "      <td>1</td>\n",
       "    </tr>\n",
       "    <tr>\n",
       "      <th>8177</th>\n",
       "      <td>20.0</td>\n",
       "      <td>0.0</td>\n",
       "      <td>2.0</td>\n",
       "      <td>289.0</td>\n",
       "      <td>976.0</td>\n",
       "      <td>0.0</td>\n",
       "      <td>1267.0</td>\n",
       "      <td>0</td>\n",
       "      <td>0</td>\n",
       "      <td>1</td>\n",
       "      <td>...</td>\n",
       "      <td>1</td>\n",
       "      <td>0</td>\n",
       "      <td>0</td>\n",
       "      <td>0</td>\n",
       "      <td>0</td>\n",
       "      <td>0</td>\n",
       "      <td>1</td>\n",
       "      <td>0</td>\n",
       "      <td>0</td>\n",
       "      <td>0</td>\n",
       "    </tr>\n",
       "    <tr>\n",
       "      <th>500</th>\n",
       "      <td>36.0</td>\n",
       "      <td>0.0</td>\n",
       "      <td>0.0</td>\n",
       "      <td>0.0</td>\n",
       "      <td>0.0</td>\n",
       "      <td>0.0</td>\n",
       "      <td>0.0</td>\n",
       "      <td>0</td>\n",
       "      <td>1</td>\n",
       "      <td>0</td>\n",
       "      <td>...</td>\n",
       "      <td>0</td>\n",
       "      <td>0</td>\n",
       "      <td>0</td>\n",
       "      <td>1</td>\n",
       "      <td>0</td>\n",
       "      <td>0</td>\n",
       "      <td>0</td>\n",
       "      <td>0</td>\n",
       "      <td>0</td>\n",
       "      <td>0</td>\n",
       "    </tr>\n",
       "  </tbody>\n",
       "</table>\n",
       "<p>5 rows × 22 columns</p>\n",
       "</div>"
      ],
      "text/plain": [
       "       Age  RoomService  FoodCourt  ShoppingMall    Spa  VRDeck  consume  \\\n",
       "2333  28.0          0.0       55.0           0.0  656.0     0.0    711.0   \n",
       "2589  17.0          0.0     1195.0          31.0    0.0     0.0   1226.0   \n",
       "8302  28.0          0.0        0.0           0.0    0.0     0.0      0.0   \n",
       "8177  20.0          0.0        2.0         289.0  976.0     0.0   1267.0   \n",
       "500   36.0          0.0        0.0           0.0    0.0     0.0      0.0   \n",
       "\n",
       "      HomePlanet_Earth  HomePlanet_Europa  HomePlanet_Mars  ...  \\\n",
       "2333                 1                  0                0  ...   \n",
       "2589                 1                  0                0  ...   \n",
       "8302                 0                  1                0  ...   \n",
       "8177                 0                  0                1  ...   \n",
       "500                  0                  1                0  ...   \n",
       "\n",
       "      Destination_TRAPPIST-1e  VIP_True  deck_B  deck_C  deck_D  deck_E  \\\n",
       "2333                        1         0       0       0       0       0   \n",
       "2589                        1         0       0       0       0       0   \n",
       "8302                        0         0       0       1       0       0   \n",
       "8177                        1         0       0       0       0       0   \n",
       "500                         0         0       0       1       0       0   \n",
       "\n",
       "      deck_F  deck_G  deck_T  side_S  \n",
       "2333       1       0       0       1  \n",
       "2589       1       0       0       0  \n",
       "8302       0       0       0       1  \n",
       "8177       1       0       0       0  \n",
       "500        0       0       0       0  \n",
       "\n",
       "[5 rows x 22 columns]"
      ]
     },
     "execution_count": 19,
     "metadata": {},
     "output_type": "execute_result"
    }
   ],
   "source": [
    "X_train.head(5)"
   ]
  },
  {
   "cell_type": "code",
   "execution_count": 20,
   "metadata": {},
   "outputs": [
    {
     "name": "stdout",
     "output_type": "stream",
     "text": [
      "Learning rate set to 0.194791\n",
      "0:\tlearn: 0.6269258\ttotal: 56.8ms\tremaining: 5.62s\n",
      "1:\tlearn: 0.5903171\ttotal: 57.8ms\tremaining: 2.83s\n",
      "2:\tlearn: 0.5628805\ttotal: 58.8ms\tremaining: 1.9s\n",
      "3:\tlearn: 0.5390508\ttotal: 60ms\tremaining: 1.44s\n",
      "4:\tlearn: 0.5259706\ttotal: 61.1ms\tremaining: 1.16s\n",
      "5:\tlearn: 0.5160656\ttotal: 62.3ms\tremaining: 976ms\n",
      "6:\tlearn: 0.5075432\ttotal: 63.4ms\tremaining: 843ms\n",
      "7:\tlearn: 0.4973410\ttotal: 64.5ms\tremaining: 742ms\n",
      "8:\tlearn: 0.4890283\ttotal: 65.6ms\tremaining: 663ms\n",
      "9:\tlearn: 0.4824205\ttotal: 66.9ms\tremaining: 602ms\n",
      "10:\tlearn: 0.4764552\ttotal: 68ms\tremaining: 550ms\n",
      "11:\tlearn: 0.4733766\ttotal: 69.2ms\tremaining: 507ms\n",
      "12:\tlearn: 0.4697525\ttotal: 70.5ms\tremaining: 472ms\n",
      "13:\tlearn: 0.4657178\ttotal: 71.7ms\tremaining: 440ms\n",
      "14:\tlearn: 0.4622461\ttotal: 72.9ms\tremaining: 413ms\n",
      "15:\tlearn: 0.4590134\ttotal: 74.1ms\tremaining: 389ms\n",
      "16:\tlearn: 0.4544604\ttotal: 75.5ms\tremaining: 368ms\n",
      "17:\tlearn: 0.4509661\ttotal: 76.8ms\tremaining: 350ms\n",
      "18:\tlearn: 0.4488742\ttotal: 78ms\tremaining: 332ms\n",
      "19:\tlearn: 0.4433543\ttotal: 79.3ms\tremaining: 317ms\n",
      "20:\tlearn: 0.4382745\ttotal: 80.2ms\tremaining: 302ms\n",
      "21:\tlearn: 0.4367104\ttotal: 81.3ms\tremaining: 288ms\n",
      "22:\tlearn: 0.4351411\ttotal: 82.5ms\tremaining: 276ms\n",
      "23:\tlearn: 0.4318469\ttotal: 83.9ms\tremaining: 266ms\n",
      "24:\tlearn: 0.4306246\ttotal: 85.6ms\tremaining: 257ms\n",
      "25:\tlearn: 0.4299756\ttotal: 86.8ms\tremaining: 247ms\n",
      "26:\tlearn: 0.4292100\ttotal: 88.1ms\tremaining: 238ms\n",
      "27:\tlearn: 0.4279322\ttotal: 89.5ms\tremaining: 230ms\n",
      "28:\tlearn: 0.4269425\ttotal: 90.7ms\tremaining: 222ms\n",
      "29:\tlearn: 0.4263734\ttotal: 92.1ms\tremaining: 215ms\n",
      "30:\tlearn: 0.4252411\ttotal: 93.5ms\tremaining: 208ms\n",
      "31:\tlearn: 0.4246623\ttotal: 94.8ms\tremaining: 201ms\n",
      "32:\tlearn: 0.4231434\ttotal: 96ms\tremaining: 195ms\n",
      "33:\tlearn: 0.4221661\ttotal: 97.1ms\tremaining: 189ms\n",
      "34:\tlearn: 0.4209519\ttotal: 98.3ms\tremaining: 183ms\n",
      "35:\tlearn: 0.4202760\ttotal: 99.5ms\tremaining: 177ms\n",
      "36:\tlearn: 0.4194807\ttotal: 101ms\tremaining: 171ms\n",
      "37:\tlearn: 0.4179684\ttotal: 102ms\tremaining: 166ms\n",
      "38:\tlearn: 0.4164985\ttotal: 103ms\tremaining: 162ms\n",
      "39:\tlearn: 0.4160400\ttotal: 105ms\tremaining: 157ms\n",
      "40:\tlearn: 0.4154339\ttotal: 107ms\tremaining: 153ms\n",
      "41:\tlearn: 0.4150075\ttotal: 108ms\tremaining: 149ms\n",
      "42:\tlearn: 0.4143186\ttotal: 109ms\tremaining: 145ms\n",
      "43:\tlearn: 0.4137886\ttotal: 110ms\tremaining: 140ms\n",
      "44:\tlearn: 0.4131832\ttotal: 112ms\tremaining: 136ms\n",
      "45:\tlearn: 0.4125143\ttotal: 113ms\tremaining: 133ms\n",
      "46:\tlearn: 0.4117028\ttotal: 114ms\tremaining: 129ms\n",
      "47:\tlearn: 0.4111553\ttotal: 116ms\tremaining: 125ms\n",
      "48:\tlearn: 0.4103679\ttotal: 117ms\tremaining: 122ms\n",
      "49:\tlearn: 0.4096661\ttotal: 119ms\tremaining: 119ms\n",
      "50:\tlearn: 0.4092198\ttotal: 120ms\tremaining: 115ms\n",
      "51:\tlearn: 0.4086243\ttotal: 121ms\tremaining: 112ms\n",
      "52:\tlearn: 0.4080593\ttotal: 123ms\tremaining: 109ms\n",
      "53:\tlearn: 0.4068080\ttotal: 124ms\tremaining: 106ms\n",
      "54:\tlearn: 0.4053221\ttotal: 125ms\tremaining: 102ms\n",
      "55:\tlearn: 0.4044585\ttotal: 126ms\tremaining: 99.3ms\n",
      "56:\tlearn: 0.4032514\ttotal: 127ms\tremaining: 96ms\n",
      "57:\tlearn: 0.4027474\ttotal: 129ms\tremaining: 93.1ms\n",
      "58:\tlearn: 0.4022925\ttotal: 130ms\tremaining: 90.2ms\n",
      "59:\tlearn: 0.4017050\ttotal: 131ms\tremaining: 87.5ms\n",
      "60:\tlearn: 0.4011522\ttotal: 133ms\tremaining: 84.8ms\n",
      "61:\tlearn: 0.4008089\ttotal: 134ms\tremaining: 82ms\n",
      "62:\tlearn: 0.3999208\ttotal: 135ms\tremaining: 79.3ms\n",
      "63:\tlearn: 0.3994628\ttotal: 136ms\tremaining: 76.6ms\n",
      "64:\tlearn: 0.3990981\ttotal: 138ms\tremaining: 74.1ms\n",
      "65:\tlearn: 0.3981735\ttotal: 139ms\tremaining: 71.5ms\n",
      "66:\tlearn: 0.3975957\ttotal: 140ms\tremaining: 69ms\n",
      "67:\tlearn: 0.3973361\ttotal: 142ms\tremaining: 66.6ms\n",
      "68:\tlearn: 0.3966793\ttotal: 143ms\tremaining: 64.3ms\n",
      "69:\tlearn: 0.3956348\ttotal: 144ms\tremaining: 61.9ms\n",
      "70:\tlearn: 0.3949618\ttotal: 146ms\tremaining: 59.5ms\n",
      "71:\tlearn: 0.3944296\ttotal: 147ms\tremaining: 57.2ms\n",
      "72:\tlearn: 0.3929649\ttotal: 148ms\tremaining: 54.8ms\n",
      "73:\tlearn: 0.3925904\ttotal: 149ms\tremaining: 52.4ms\n",
      "74:\tlearn: 0.3919918\ttotal: 150ms\tremaining: 50.1ms\n",
      "75:\tlearn: 0.3916137\ttotal: 152ms\tremaining: 48ms\n",
      "76:\tlearn: 0.3913615\ttotal: 154ms\tremaining: 46ms\n",
      "77:\tlearn: 0.3909683\ttotal: 155ms\tremaining: 43.7ms\n",
      "78:\tlearn: 0.3902998\ttotal: 156ms\tremaining: 41.6ms\n",
      "79:\tlearn: 0.3899825\ttotal: 158ms\tremaining: 39.4ms\n",
      "80:\tlearn: 0.3898087\ttotal: 159ms\tremaining: 37.3ms\n",
      "81:\tlearn: 0.3894666\ttotal: 160ms\tremaining: 35.2ms\n",
      "82:\tlearn: 0.3889383\ttotal: 161ms\tremaining: 33.1ms\n",
      "83:\tlearn: 0.3882853\ttotal: 162ms\tremaining: 30.9ms\n",
      "84:\tlearn: 0.3879030\ttotal: 164ms\tremaining: 28.9ms\n",
      "85:\tlearn: 0.3869724\ttotal: 165ms\tremaining: 26.8ms\n",
      "86:\tlearn: 0.3866231\ttotal: 166ms\tremaining: 24.8ms\n",
      "87:\tlearn: 0.3859835\ttotal: 167ms\tremaining: 22.8ms\n",
      "88:\tlearn: 0.3857466\ttotal: 168ms\tremaining: 20.8ms\n",
      "89:\tlearn: 0.3854791\ttotal: 170ms\tremaining: 18.8ms\n",
      "90:\tlearn: 0.3848891\ttotal: 171ms\tremaining: 16.9ms\n",
      "91:\tlearn: 0.3843550\ttotal: 172ms\tremaining: 14.9ms\n",
      "92:\tlearn: 0.3839327\ttotal: 173ms\tremaining: 13ms\n",
      "93:\tlearn: 0.3834320\ttotal: 174ms\tremaining: 11.1ms\n",
      "94:\tlearn: 0.3832594\ttotal: 175ms\tremaining: 9.23ms\n",
      "95:\tlearn: 0.3828286\ttotal: 176ms\tremaining: 7.35ms\n",
      "96:\tlearn: 0.3821007\ttotal: 177ms\tremaining: 5.49ms\n",
      "97:\tlearn: 0.3818360\ttotal: 179ms\tremaining: 3.64ms\n",
      "98:\tlearn: 0.3815171\ttotal: 180ms\tremaining: 1.81ms\n",
      "99:\tlearn: 0.3806661\ttotal: 181ms\tremaining: 0us\n"
     ]
    }
   ],
   "source": [
    "# defining and combining models\n",
    "lgbm = LGBMClassifier(learning_rate=0.01, max_depth=5, n_estimators=500,random_state=0)\n",
    "xgb = XGBClassifier(learning_rate=0.01, max_depth=5, n_estimators=500,random_state=0)\n",
    "cat = CatBoostClassifier(max_depth=3, n_estimators=100,random_state=98)\n",
    "\n",
    "# fitting them inside the VotingClassifier\n",
    "clf = VotingClassifier(estimators=[('lgbm', lgbm), ('xgb', xgb),('cat',cat)], voting='soft')\n",
    "# fitting the data\n",
    "clf.fit(X_train, y_train)\n",
    "y_pred = clf.predict(X_val)"
   ]
  },
  {
   "cell_type": "code",
   "execution_count": 21,
   "metadata": {},
   "outputs": [
    {
     "name": "stdout",
     "output_type": "stream",
     "text": [
      "              precision    recall  f1-score   support\n",
      "\n",
      "           0       0.82      0.75      0.78       861\n",
      "           1       0.77      0.84      0.80       878\n",
      "\n",
      "    accuracy                           0.79      1739\n",
      "   macro avg       0.80      0.79      0.79      1739\n",
      "weighted avg       0.80      0.79      0.79      1739\n",
      "\n",
      "0.7941345600920069\n"
     ]
    }
   ],
   "source": [
    "print(classification_report(y_val,y_pred))\n",
    "print(accuracy_score(y_val,y_pred))"
   ]
  },
  {
   "attachments": {},
   "cell_type": "markdown",
   "metadata": {},
   "source": [
    "# submission"
   ]
  },
  {
   "cell_type": "code",
   "execution_count": 22,
   "metadata": {},
   "outputs": [
    {
     "data": {
      "text/html": [
       "<div>\n",
       "<style scoped>\n",
       "    .dataframe tbody tr th:only-of-type {\n",
       "        vertical-align: middle;\n",
       "    }\n",
       "\n",
       "    .dataframe tbody tr th {\n",
       "        vertical-align: top;\n",
       "    }\n",
       "\n",
       "    .dataframe thead th {\n",
       "        text-align: right;\n",
       "    }\n",
       "</style>\n",
       "<table border=\"1\" class=\"dataframe\">\n",
       "  <thead>\n",
       "    <tr style=\"text-align: right;\">\n",
       "      <th></th>\n",
       "      <th>PassengerId</th>\n",
       "      <th>Transported</th>\n",
       "    </tr>\n",
       "  </thead>\n",
       "  <tbody>\n",
       "    <tr>\n",
       "      <th>0</th>\n",
       "      <td>0013_01</td>\n",
       "      <td>False</td>\n",
       "    </tr>\n",
       "    <tr>\n",
       "      <th>1</th>\n",
       "      <td>0018_01</td>\n",
       "      <td>False</td>\n",
       "    </tr>\n",
       "    <tr>\n",
       "      <th>2</th>\n",
       "      <td>0019_01</td>\n",
       "      <td>False</td>\n",
       "    </tr>\n",
       "    <tr>\n",
       "      <th>3</th>\n",
       "      <td>0021_01</td>\n",
       "      <td>False</td>\n",
       "    </tr>\n",
       "    <tr>\n",
       "      <th>4</th>\n",
       "      <td>0023_01</td>\n",
       "      <td>False</td>\n",
       "    </tr>\n",
       "    <tr>\n",
       "      <th>...</th>\n",
       "      <td>...</td>\n",
       "      <td>...</td>\n",
       "    </tr>\n",
       "    <tr>\n",
       "      <th>4272</th>\n",
       "      <td>9266_02</td>\n",
       "      <td>False</td>\n",
       "    </tr>\n",
       "    <tr>\n",
       "      <th>4273</th>\n",
       "      <td>9269_01</td>\n",
       "      <td>False</td>\n",
       "    </tr>\n",
       "    <tr>\n",
       "      <th>4274</th>\n",
       "      <td>9271_01</td>\n",
       "      <td>False</td>\n",
       "    </tr>\n",
       "    <tr>\n",
       "      <th>4275</th>\n",
       "      <td>9273_01</td>\n",
       "      <td>False</td>\n",
       "    </tr>\n",
       "    <tr>\n",
       "      <th>4276</th>\n",
       "      <td>9277_01</td>\n",
       "      <td>False</td>\n",
       "    </tr>\n",
       "  </tbody>\n",
       "</table>\n",
       "<p>4277 rows × 2 columns</p>\n",
       "</div>"
      ],
      "text/plain": [
       "     PassengerId  Transported\n",
       "0        0013_01        False\n",
       "1        0018_01        False\n",
       "2        0019_01        False\n",
       "3        0021_01        False\n",
       "4        0023_01        False\n",
       "...          ...          ...\n",
       "4272     9266_02        False\n",
       "4273     9269_01        False\n",
       "4274     9271_01        False\n",
       "4275     9273_01        False\n",
       "4276     9277_01        False\n",
       "\n",
       "[4277 rows x 2 columns]"
      ]
     },
     "execution_count": 22,
     "metadata": {},
     "output_type": "execute_result"
    }
   ],
   "source": [
    "submission"
   ]
  },
  {
   "cell_type": "code",
   "execution_count": 23,
   "metadata": {},
   "outputs": [],
   "source": [
    "predict = clf.predict(test_one)\n",
    "submission['Transported']=predict\n",
    "submission['Transported'].replace({1:True,0:False},inplace=True)"
   ]
  },
  {
   "cell_type": "code",
   "execution_count": 24,
   "metadata": {},
   "outputs": [],
   "source": [
    "submission.to_csv('one hot encoding xgb lgbm cb gb voting.csv',index=False)"
   ]
  }
 ],
 "metadata": {
  "kernelspec": {
   "display_name": "tf",
   "language": "python",
   "name": "python3"
  },
  "language_info": {
   "codemirror_mode": {
    "name": "ipython",
    "version": 3
   },
   "file_extension": ".py",
   "mimetype": "text/x-python",
   "name": "python",
   "nbconvert_exporter": "python",
   "pygments_lexer": "ipython3",
   "version": "3.8.16"
  },
  "orig_nbformat": 4
 },
 "nbformat": 4,
 "nbformat_minor": 2
}
